{
 "cells": [
  {
   "cell_type": "code",
   "execution_count": 5,
   "metadata": {},
   "outputs": [],
   "source": [
    "import os\n",
    "import string\n",
    "import numpy as np"
   ]
  },
  {
   "cell_type": "code",
   "execution_count": 6,
   "metadata": {},
   "outputs": [],
   "source": [
    "X=[] # input data\n",
    "Y=[] # label class\n",
    "for category in os.listdir(\"20_newsgroups\"):\n",
    "    for document in os.listdir(\"20_newsgroups/\"+category):\n",
    "        X.append((document,open(\"20_newsgroups/\"+category+\"/\"+document).read()))\n",
    "        Y.append(category)\n"
   ]
  },
  {
   "cell_type": "code",
   "execution_count": 7,
   "metadata": {},
   "outputs": [],
   "source": [
    "# search on google u get list on stopwords  \n",
    "stopwords = ['a', 'about', 'above', 'across', 'after', 'afterwards', 'again', 'against', 'all', 'almost', 'alone',\n",
    "             'along', 'already', 'also', 'although', 'always', 'am', 'among', 'amongst', 'amoungst', 'amount',\n",
    "             'an', 'and', 'another', 'any', 'anyhow', 'anyone', 'anything', 'anyway', 'anywhere', 'are', 'around',\n",
    "             'as', 'at', 'back', 'be', 'became', 'because', 'become', 'becomes', 'becoming', 'been', 'before',\n",
    "             'beforehand', 'behind', 'being', 'below', 'beside', 'besides', 'between', 'beyond', 'bill', 'both',\n",
    "             'bottom', 'but', 'by', 'call', 'can', 'cannot', 'cant', 'co', 'con', 'could', 'couldnt', 'cry', 'de',\n",
    "             'describe', 'detail', 'did', 'do', 'does', 'doing', 'don', 'done', 'down', 'due', 'during', 'each', 'eg',\n",
    "             'eight', 'either', 'eleven', 'else', 'elsewhere', 'empty', 'enough', 'etc', 'even', 'ever', 'every', 'everyone',\n",
    "             'everything', 'everywhere', 'except', 'few', 'fifteen', 'fify', 'fill', 'find', 'fire', 'first', 'five', 'for',\n",
    "             'former', 'formerly', 'forty', 'found', 'four', 'from', 'front', 'full', 'further', 'get', 'give', 'go', 'had',\n",
    "             'has', 'hasnt', 'have', 'having', 'he', 'hence', 'her', 'here', 'hereafter', 'hereby', 'herein', 'hereupon',\n",
    "             'hers', 'herself', 'him', 'himself', 'his', 'how', 'however', 'hundred', 'i', 'ie', 'if', 'in', 'inc', 'indeed',\n",
    "             'interest', 'into', 'is', 'it', 'its', 'itself', 'just', 'keep', 'last', 'latter', 'latterly', 'least', 'less',\n",
    "             'ltd', 'made', 'many', 'may', 'me', 'meanwhile', 'might', 'mill', 'mine', 'more', 'moreover', 'most', 'mostly',\n",
    "             'move', 'much', 'must', 'my', 'myself', 'name', 'namely', 'neither', 'never', 'nevertheless', 'next', 'nine',\n",
    "             'no', 'nobody', 'none', 'noone', 'nor', 'not', 'nothing', 'now', 'nowhere', 'of', 'off', 'often', 'on', 'once',\n",
    "             'one', 'only', 'onto', 'or', 'other', 'others', 'otherwise', 'our', 'ours', 'ourselves', 'out', 'over', 'own',\n",
    "             'part', 'per', 'perhaps', 'please', 'put', 'rather', 're', 's', 'same', 'see', 'seem', 'seemed', 'seeming',\n",
    "             'seems', 'serious', 'several', 'she', 'should', 'show', 'side', 'since', 'sincere', 'six', 'sixty', 'so', \n",
    "             'some', 'somehow', 'someone', 'something', 'sometime', 'sometimes', 'somewhere', 'still', 'such', 'system',\n",
    "             't', 'take', 'ten', 'than', 'that', 'the', 'their', 'theirs', 'them', 'themselves', 'then', 'thence', 'there',\n",
    "             'thereafter', 'thereby', 'therefore', 'therein', 'thereupon', 'these', 'they', 'thickv', 'thin', 'third', 'this',\n",
    "             'those', 'though', 'three', 'through', 'throughout', 'thru', 'thus', 'to', 'together', 'too', 'top', 'toward',\n",
    "             'towards', 'twelve', 'twenty', 'two', 'un', 'under', 'until', 'up', 'upon', 'us', 'very', 'via', 'was', 'we',\n",
    "             'well', 'were', 'what', 'whatever', 'when', 'whence', 'whenever', 'where', 'whereafter', 'whereas', 'whereby',\n",
    "             'wherein', 'whereupon', 'wherever', 'whether', 'which', 'while', 'whither', 'who', 'whoever', 'whole', 'whom',\n",
    "             'whose', 'why', 'will', 'with', 'within', 'without', 'would', 'yet', 'you', 'your', 'yours', 'yourself',\n",
    "             'yourselves']"
   ]
  },
  {
   "cell_type": "code",
   "execution_count": 8,
   "metadata": {},
   "outputs": [],
   "source": [
    "from sklearn import model_selection \n"
   ]
  },
  {
   "cell_type": "code",
   "execution_count": 9,
   "metadata": {},
   "outputs": [],
   "source": [
    "X_train,X_test,Y_train,Y_test = model_selection.train_test_split(X,Y,test_size=0.25,random_state=0)"
   ]
  },
  {
   "cell_type": "code",
   "execution_count": 10,
   "metadata": {},
   "outputs": [],
   "source": [
    "# make list of vacobalory...\n",
    "vocab={}\n",
    "for i in range(len(X_train)):\n",
    "    for word in X_train[i][1].split():\n",
    "        word_new =word.strip(string.punctuation).lower()\n",
    "        if(len(word_new)>2) and (word_new not in stopwords):\n",
    "            if(word_new in vocab):\n",
    "                vocab[word_new]+=1\n",
    "            else:\n",
    "                vocab[word_new]=1"
   ]
  },
  {
   "cell_type": "code",
   "execution_count": 11,
   "metadata": {},
   "outputs": [],
   "source": [
    "import matplotlib.pyplot as plt"
   ]
  },
  {
   "cell_type": "code",
   "execution_count": 12,
   "metadata": {},
   "outputs": [
    {
     "data": {
      "image/png": "[encoded data removed]",
      "text/plain": [
       "<matplotlib.figure.Figure at 0x215fd634550>"
      ]
     },
     "metadata": {},
     "output_type": "display_data"
    }
   ],
   "source": [
    "num_words=[0 for i in range(max(vocab.values())+1)]\n",
    "freq=[ i for i in range(max(vocab.values())+1)]\n",
    "for key in vocab:\n",
    "    num_words[vocab[key]]+=1\n",
    "plt.plot(freq,num_words)\n",
    "plt.axis([1,10,0,20000])\n",
    "plt.grid()\n",
    "plt.show()\n"
   ]
  },
  {
   "cell_type": "code",
   "execution_count": 13,
   "metadata": {},
   "outputs": [
    {
     "name": "stdout",
     "output_type": "stream",
     "text": [
      "3385\n"
     ]
    }
   ],
   "source": [
    "# cut off the unused words\n",
    "cutoff_freq=100\n",
    "total_words_after_cutoff=len(vocab)-sum(num_words[0:cutoff_freq])\n",
    "print(total_words_after_cutoff)"
   ]
  },
  {
   "cell_type": "code",
   "execution_count": 14,
   "metadata": {},
   "outputs": [],
   "source": [
    "# make the list of features\n",
    "features=[]\n",
    "for key in vocab:\n",
    "    if(vocab[key]>=cutoff_freq):\n",
    "        features.append(key)"
   ]
  },
  {
   "cell_type": "code",
   "execution_count": 15,
   "metadata": {},
   "outputs": [],
   "source": [
    "# Now make input 2d train_data\n",
    "X_train_datasets = np.zeros((len(X_train),len(features)))\n",
    "for i in range(len(X_train)):\n",
    "    word_list=[word.strip(string.punctuation).lower() for word in X_train[i][1].split()]\n",
    "    for word in word_list:\n",
    "        if(word in features):\n",
    "            X_train_datasets[i][features.index(word)]+=1   "
   ]
  },
  {
   "cell_type": "code",
   "execution_count": 16,
   "metadata": {},
   "outputs": [],
   "source": [
    "# Now make input 2d test_data\n",
    "X_test_datasets = np.zeros((len(X_test),len(features)))\n",
    "for i in range(len(X_test)):\n",
    "    word_list=[word.strip(string.punctuation).lower() for word in X_test[i][1].split()]\n",
    "    for word in word_list:\n",
    "        if(word in features):\n",
    "            X_test_datasets[i][features.index(word)]+=1   "
   ]
  },
  {
   "cell_type": "code",
   "execution_count": 17,
   "metadata": {},
   "outputs": [],
   "source": [
    "from sklearn.naive_bayes import MultinomialNB\n",
    "from sklearn.metrics import classification_report"
   ]
  },
  {
   "cell_type": "code",
   "execution_count": 18,
   "metadata": {},
   "outputs": [
    {
     "name": "stdout",
     "output_type": "stream",
     "text": [
      "Train_score: 0.8994465559778623\n",
      "Test_score: 0.8556\n",
      "classification_report\n",
      "                          precision    recall  f1-score   support\n",
      "\n",
      "             alt.atheism       0.75      0.79      0.77       233\n",
      "           comp.graphics       0.77      0.77      0.77       253\n",
      " comp.os.ms-windows.misc       0.85      0.81      0.83       249\n",
      "comp.sys.ibm.pc.hardware       0.80      0.85      0.83       240\n",
      "   comp.sys.mac.hardware       0.82      0.93      0.87       236\n",
      "          comp.windows.x       0.91      0.82      0.86       240\n",
      "            misc.forsale       0.79      0.87      0.83       261\n",
      "               rec.autos       0.89      0.91      0.90       269\n",
      "         rec.motorcycles       0.88      0.96      0.92       284\n",
      "      rec.sport.baseball       0.98      0.97      0.98       248\n",
      "        rec.sport.hockey       0.97      0.98      0.98       231\n",
      "               sci.crypt       0.96      0.89      0.93       233\n",
      "         sci.electronics       0.88      0.86      0.87       244\n",
      "                 sci.med       0.93      0.89      0.91       256\n",
      "               sci.space       0.92      0.93      0.92       246\n",
      "  soc.religion.christian       0.93      0.98      0.95       252\n",
      "      talk.politics.guns       0.72      0.89      0.80       249\n",
      "   talk.politics.mideast       0.94      0.87      0.90       281\n",
      "      talk.politics.misc       0.72      0.63      0.67       259\n",
      "      talk.religion.misc       0.67      0.47      0.55       236\n",
      "\n",
      "             avg / total       0.86      0.86      0.85      5000\n",
      "\n"
     ]
    }
   ],
   "source": [
    "# using inbuild naive bayes multinomial type b/c text classification depends on freq of word so we use multinomial so that's why we use multi(i.e freq count)\n",
    "clf = MultinomialNB()\n",
    "clf.fit(X_train_datasets,Y_train)\n",
    "Y_test_pred = clf.predict(X_test_datasets)\n",
    "print(\"Train_score:\",clf.score(X_train_datasets,Y_train))\n",
    "print(\"Test_score:\",clf.score(X_test_datasets,Y_test))\n",
    "print(\"classification_report\")\n",
    "print(classification_report(Y_test,Y_test_pred))"
   ]
  },
  {
   "cell_type": "code",
   "execution_count": 36,
   "metadata": {},
   "outputs": [],
   "source": [
    "#implementation from scratch\n",
    "class MultinomialNativeBayes:\n",
    "    \n",
    "    def __init__(self):\n",
    "        self.dict={}\n",
    "        self.classes=None\n",
    "        \n",
    "    def fit(self,X_train,Y_train):\n",
    "        self.classes = set(Y_train)\n",
    "        for class1 in self.classes:\n",
    "            self.dict[class1]={}\n",
    "            for i in range(len(X_train[0])):\n",
    "                self.dict[class1][i]=0\n",
    "            self.dict[class1]['total']=0\n",
    "        self.dict['total_points']=len(X_train)\n",
    "    \n",
    "        for i in range(len(X_train)):\n",
    "            for j in range(len(X_train[0])):\n",
    "                self.dict[Y_train[i]][j]+=X_train[i][j]\n",
    "            self.dict[Y_train[i]]['total']+=1\n",
    "    \n",
    "    \n",
    "    \n",
    "    def probability(self,test_point,class1):\n",
    "        # log b/c of small value get justified..\n",
    "        log_prob = np.log(self.dict[class1]['total'])-np.log(self.dict['total_points'])\n",
    "        total_word =len(test_point)\n",
    "        for i in range(len(test_point)):\n",
    "            curr_prob=test_point[i]*(np.log(self.dict[class1][i]+1)-np.log(self.dict[class1]['total']+total_word))\n",
    "            # use laplace correction so that result will not be zero any more\n",
    "            log_prob += curr_prob   \n",
    "                            \n",
    "    \n",
    "        return log_prob\n",
    "                                     \n",
    "    def predictSinglePoint(self,test_point):\n",
    "        \n",
    "        best_class=None\n",
    "        best_prob=None\n",
    "        first_run=True\n",
    "        \n",
    "        for class1 in self.classes:\n",
    "            log_probability= self.probability(test_point,class1)\n",
    "            if(first_run or log_probability>best_prob):\n",
    "                best_class=class1\n",
    "                best_prob=log_probability\n",
    "                first_run=False\n",
    "        return best_class\n",
    "    \n",
    "    def predict(self,X_test):\n",
    "        \n",
    "        Y_pred=[]\n",
    "        for i in range(len(X_test)):\n",
    "            Y_pred.append(self.predictSinglePoint(X_test[i]))\n",
    "                          \n",
    "        return Y_pred \n",
    "    \n",
    "    def score(self,Y_pred,Y_true):\n",
    "        cont=0\n",
    "        for i in range(len(Y_pred)):\n",
    "            if(Y_pred[i]==Y_true[i]):\n",
    "                cont+=1\n",
    "                \n",
    "        return cont/len(Y_pred)        \n",
    "                          "
   ]
  },
  {
   "cell_type": "code",
   "execution_count": 38,
   "metadata": {},
   "outputs": [
    {
     "name": "stdout",
     "output_type": "stream",
     "text": [
      "Test_score: 0.7682\n",
      "classification_report\n",
      "                          precision    recall  f1-score   support\n",
      "\n",
      "             alt.atheism       0.78      0.76      0.77       233\n",
      "           comp.graphics       0.76      0.76      0.76       253\n",
      " comp.os.ms-windows.misc       0.93      0.64      0.76       249\n",
      "comp.sys.ibm.pc.hardware       0.78      0.82      0.80       240\n",
      "   comp.sys.mac.hardware       0.99      0.75      0.85       236\n",
      "          comp.windows.x       0.69      0.91      0.79       240\n",
      "            misc.forsale       0.91      0.57      0.70       261\n",
      "               rec.autos       0.94      0.69      0.79       269\n",
      "         rec.motorcycles       1.00      0.62      0.76       284\n",
      "      rec.sport.baseball       0.99      0.83      0.91       248\n",
      "        rec.sport.hockey       0.96      0.96      0.96       231\n",
      "               sci.crypt       0.66      0.90      0.77       233\n",
      "         sci.electronics       0.92      0.65      0.76       244\n",
      "                 sci.med       0.97      0.79      0.87       256\n",
      "               sci.space       0.87      0.83      0.85       246\n",
      "  soc.religion.christian       0.92      0.99      0.95       252\n",
      "      talk.politics.guns       0.81      0.67      0.73       249\n",
      "   talk.politics.mideast       0.78      0.97      0.86       281\n",
      "      talk.politics.misc       0.31      0.86      0.46       259\n",
      "      talk.religion.misc       0.64      0.42      0.50       236\n",
      "\n",
      "             avg / total       0.83      0.77      0.78      5000\n",
      "\n"
     ]
    }
   ],
   "source": [
    "clf2 = MultinomialNativeBayes()\n",
    "clf2.fit(X_train_datasets,Y_train)\n",
    "Y_test_pred= clf2.predict(X_test_datasets)\n",
    "\n",
    "print(\"Test_score:\",clf2.score(Y_test_pred,Y_test))\n",
    "print(\"classification_report\")\n",
    "print(classification_report(Y_test,Y_test_pred))"
   ]
  }
 ],
 "metadata": {
  "kernelspec": {
   "display_name": "Python 3",
   "language": "python",
   "name": "python3"
  },
  "language_info": {
   "codemirror_mode": {
    "name": "ipython",
    "version": 3
   },
   "file_extension": ".py",
   "mimetype": "text/x-python",
   "name": "python",
   "nbconvert_exporter": "python",
   "pygments_lexer": "ipython3",
   "version": "3.6.4"
  }
 },
 "nbformat": 4,
 "nbformat_minor": 2
}
